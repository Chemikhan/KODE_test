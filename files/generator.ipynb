{
 "cells": [
  {
   "cell_type": "code",
   "execution_count": 1,
   "metadata": {},
   "outputs": [],
   "source": [
    "import pandas as pd\n",
    "import numpy as np\n",
    "import random\n",
    "import time\n",
    "now = time.time()"
   ]
  },
  {
   "cell_type": "code",
   "execution_count": 2,
   "metadata": {},
   "outputs": [],
   "source": [
    "AlphaNumeric_Cyrillic_Upper = \"0123456789АБВГДЕЁЖЗИЙКЛМНОПРСТУФХЦЧШЩЬЪЭЮЯ!_-=+~`?><|#\"\n",
    "AlphaNumeric_Cyrillic_Lower= \"0123456789абвгдеёжзийклмнопрстуфхцчшщьъэюя\"\n",
    "def generate_name(lower_limit, upper_limit):\n",
    "    a = random.choice(AlphaNumeric_Cyrillic_Upper)\n",
    "    a += ''.join(random.choice(AlphaNumeric_Cyrillic_Lower) for i in range(random.randint(lower_limit, upper_limit)))\n",
    "    return a"
   ]
  },
  {
   "cell_type": "code",
   "execution_count": 3,
   "metadata": {},
   "outputs": [],
   "source": [
    "n_rows = random.randint(10, 1000)\n",
    "n_types = random.randint(3, 15)\n",
    "df = pd.DataFrame(columns = ['Name', 'x','y','Type','time'])\n",
    "types = []\n",
    "for i in range(n_types):\n",
    "    types.append(generate_name(3,10))\n",
    "for i in range(n_rows):\n",
    "    name  = generate_name(3,10)\n",
    "    x = random.uniform(-4000.50, 4000.50)\n",
    "    y = random.uniform(-4000.50, 4000.50)\n",
    "    type = random.choice(types)\n",
    "    time =  now - random.uniform(10000,10000000)\n",
    "    df.loc[len(df)] = [name,x,y,type,time]\n",
    "df.to_csv(\"file.csv\", index=False, header=False, sep=\" \")"
   ]
  }
 ],
 "metadata": {
  "kernelspec": {
   "display_name": "Python 3",
   "language": "python",
   "name": "python3"
  },
  "language_info": {
   "codemirror_mode": {
    "name": "ipython",
    "version": 3
   },
   "file_extension": ".py",
   "mimetype": "text/x-python",
   "name": "python",
   "nbconvert_exporter": "python",
   "pygments_lexer": "ipython3",
   "version": "3.11.5"
  },
  "orig_nbformat": 4
 },
 "nbformat": 4,
 "nbformat_minor": 2
}
